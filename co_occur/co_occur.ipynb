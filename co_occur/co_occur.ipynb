{
 "cells": [
  {
   "cell_type": "code",
   "execution_count": null,
   "metadata": {},
   "outputs": [],
   "source": [
    "import nltk as nk ## natural language processing\n",
    "import numpy as np\n",
    "from bs4 import BeautifulSoup ## parsing html"
   ]
  },
  {
   "cell_type": "code",
   "execution_count": null,
   "metadata": {},
   "outputs": [],
   "source": [
    "## iterate over all files in MusicVocab and extract sentences\n",
    "## store sentences in a plain text file\n",
    "## begin co-occurence counting"
   ]
  }
 ],
 "metadata": {
  "language_info": {
   "name": "python"
  }
 },
 "nbformat": 4,
 "nbformat_minor": 2
}
